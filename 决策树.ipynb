{
 "cells": [
  {
   "cell_type": "markdown",
   "metadata": {},
   "source": [
    "# 6.1 训练和可视化决策树"
   ]
  },
  {
   "cell_type": "code",
   "execution_count": 1,
   "metadata": {},
   "outputs": [
    {
     "data": {
      "text/plain": [
       "DecisionTreeClassifier(max_depth=2)"
      ]
     },
     "execution_count": 1,
     "metadata": {},
     "output_type": "execute_result"
    }
   ],
   "source": [
    "# 在鸢尾花数据集上训练了一个DecisionTreeClassifier\n",
    "from sklearn.datasets import load_iris\n",
    "from sklearn.tree import DecisionTreeClassifier\n",
    "\n",
    "iris = load_iris()\n",
    "X = iris.data[:, 2:]    # petal length and width\n",
    "y = iris.target\n",
    "\n",
    "tree_clf = DecisionTreeClassifier(max_depth=2)\n",
    "tree_clf.fit(X, y)"
   ]
  },
  {
   "cell_type": "code",
   "execution_count": null,
   "metadata": {},
   "outputs": [],
   "source": [
    "# 使用export_graphviz()方法输出一个图形定义文件，将决策树可视化\n",
    "\n",
    "from sklearn.tree import export_graphviz\n",
    "\n",
    "# image_path = \"D:\\code\\Hands-On Machine Learning\\img\"\n",
    "export_graphviz(\n",
    "    tree_clf,\n",
    "    # out_file=\"D:\\code\\Hands-On Machine Learning\\img\\iris_tree.dot\",\n",
    "    feature_names=iris.feature_names[2:],\n",
    "    class_names=iris.target_names,\n",
    "    rounded=True,\n",
    "    filled=True,\n",
    ")"
   ]
  },
  {
   "cell_type": "markdown",
   "metadata": {},
   "source": [
    "![iris_tree](./img/iris_tree.png)"
   ]
  },
  {
   "cell_type": "markdown",
   "metadata": {},
   "source": [
    "# 6.2 做出决策"
   ]
  },
  {
   "cell_type": "markdown",
   "metadata": {},
   "source": [
    "* 节点的samples属性统计它应用的训练实例数量。\n",
    "* 节点的value属性说明了该节点上的每个类别的训练实例数量\n",
    "* 节点的gini属性衡量其不纯度；如果应用的所有训练实例都属于同一个类别，那么节点就是纯的(gini=0)"
   ]
  },
  {
   "cell_type": "markdown",
   "metadata": {},
   "source": [
    "深度2左侧节点，基尼系数等于$1-(0/54)^2-(49/54)^2-(5/54)^2\\approx0.618$"
   ]
  },
  {
   "cell_type": "markdown",
   "metadata": {},
   "source": [
    "基尼不纯度  \n",
    "$$G{_i}=\\sum_{k = 1}^{n} p{^2_{i,k}}$$"
   ]
  },
  {
   "cell_type": "markdown",
   "metadata": {},
   "source": [
    "# 6.3 估计类概率"
   ]
  },
  {
   "cell_type": "markdown",
   "metadata": {},
   "source": [
    "估算某个实例属于特定类k的概率"
   ]
  },
  {
   "cell_type": "code",
   "execution_count": 3,
   "metadata": {},
   "outputs": [
    {
     "data": {
      "text/plain": [
       "array([[0.        , 0.90740741, 0.09259259]])"
      ]
     },
     "execution_count": 3,
     "metadata": {},
     "output_type": "execute_result"
    }
   ],
   "source": [
    "tree_clf.predict_proba([[5, 1.5]])"
   ]
  },
  {
   "cell_type": "code",
   "execution_count": 4,
   "metadata": {},
   "outputs": [
    {
     "data": {
      "text/plain": [
       "array([1])"
      ]
     },
     "execution_count": 4,
     "metadata": {},
     "output_type": "execute_result"
    }
   ],
   "source": [
    "tree_clf.predict([[5, 1.5]])"
   ]
  },
  {
   "cell_type": "markdown",
   "metadata": {},
   "source": [
    "# 6.4 CART训练算法"
   ]
  },
  {
   "cell_type": "markdown",
   "metadata": {},
   "source": [
    "工作原理: 首先使用单个特征$k$和阈值$t{_k}$(例如\"花瓣长度\"<2.45cm)将训练分为两个子集"
   ]
  },
  {
   "cell_type": "markdown",
   "metadata": {},
   "source": [
    "如何选择$k$和$t{_k}$?  \n",
    "CART分类成本函数  \n",
    "$$J(k,t{_k})=\\frac{m{_{left}}}{m}G{_{left}}+\\frac{m{_{right}}}{m}G{_{right}}$$  \n",
    "$$其中\n",
    "\\begin{cases}\n",
    "G{_{left/right}}测量左右子集的不纯度 \\\\\n",
    "m{_{left/right}}测量左右子集的实例数\n",
    "\\end{cases}\n",
    "$$"
   ]
  },
  {
   "cell_type": "markdown",
   "metadata": {},
   "source": [
    "成功后再分割子集，以此类推"
   ]
  },
  {
   "cell_type": "markdown",
   "metadata": {},
   "source": [
    "# 6.5 计算复杂度"
   ]
  },
  {
   "cell_type": "markdown",
   "metadata": {},
   "source": [
    "遍历决策树需要经过大约$O(log{_2}(m))$个节点  \n",
    "总体预测复杂度为$O(log{_2}(m))$"
   ]
  },
  {
   "cell_type": "markdown",
   "metadata": {},
   "source": [
    "# 6.6 基尼不纯度或熵"
   ]
  },
  {
   "cell_type": "markdown",
   "metadata": {},
   "source": [
    "将超参数criterion设置为\"entropy\"来选择熵作为不纯度的测量方式  "
   ]
  },
  {
   "cell_type": "markdown",
   "metadata": {},
   "source": [
    "熵  \n",
    "$$\n",
    "H{_i} = -\\sum_{k = 1, P{_{i,k}} \\neq 0} ^n P{_{i,k}}log_{2}(P_{i,k})\n",
    "$$\n"
   ]
  },
  {
   "cell_type": "markdown",
   "metadata": {},
   "source": [
    "# 6.7 正则化超参数"
   ]
  },
  {
   "cell_type": "markdown",
   "metadata": {},
   "source": [
    "* 减小max_depth可使模型正则化，降低过拟合的风险\n",
    "* min_samples_leaf(叶节点必须有的最小样本数量)、min_weight_fraction_leaf(加权实例总数的占比)、max_leaf_nodes(最大叶节点数量)、max_features(分裂每个节点评估的最大特征数量)\n",
    "* 增大超参数min_*或减小max_*将使模型正则化"
   ]
  },
  {
   "cell_type": "markdown",
   "metadata": {},
   "source": [
    "# 6.8 回归"
   ]
  },
  {
   "cell_type": "markdown",
   "metadata": {},
   "source": [
    "决策树还能够执行回归任务  \n",
    "每个节点上不再预测一个类别而是预测一个值  \n",
    "CART回归成本函数最小化"
   ]
  },
  {
   "cell_type": "markdown",
   "metadata": {},
   "source": [
    "# 6.9 不稳定性"
   ]
  },
  {
   "cell_type": "markdown",
   "metadata": {},
   "source": [
    "决策树对训练数据中的小变化非常敏感"
   ]
  }
 ],
 "metadata": {
  "interpreter": {
   "hash": "d99a3f7b344b3c3107482760db15f42178bfad658d282ab0a919b76809e13cb5"
  },
  "kernelspec": {
   "display_name": "Python 3.10.0 64-bit",
   "language": "python",
   "name": "python3"
  },
  "language_info": {
   "codemirror_mode": {
    "name": "ipython",
    "version": 3
   },
   "file_extension": ".py",
   "mimetype": "text/x-python",
   "name": "python",
   "nbconvert_exporter": "python",
   "pygments_lexer": "ipython3",
   "version": "3.10.0"
  },
  "orig_nbformat": 4
 },
 "nbformat": 4,
 "nbformat_minor": 2
}
